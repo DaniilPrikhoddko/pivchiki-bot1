{
  "nbformat": 4,
  "nbformat_minor": 0,
  "metadata": {
    "colab": {
      "provenance": []
    },
    "kernelspec": {
      "name": "python3",
      "display_name": "Python 3"
    },
    "language_info": {
      "name": "python"
    }
  },
  "cells": [
    {
      "cell_type": "code",
      "source": [
        "!pip install yt-dlp"
      ],
      "metadata": {
        "colab": {
          "base_uri": "https://localhost:8080/"
        },
        "id": "8ZpSnseq8mer",
        "outputId": "eaf95739-700a-4a2b-cc96-2c51b24b8bff"
      },
      "execution_count": 2,
      "outputs": [
        {
          "output_type": "stream",
          "name": "stdout",
          "text": [
            "Collecting yt-dlp\n",
            "  Downloading yt_dlp-2025.2.19-py3-none-any.whl.metadata (171 kB)\n",
            "\u001b[2K     \u001b[90m━━━━━━━━━━━━━━━━━━━━━━━━━━━━━━━━━━━━━━━━\u001b[0m \u001b[32m171.9/171.9 kB\u001b[0m \u001b[31m2.8 MB/s\u001b[0m eta \u001b[36m0:00:00\u001b[0m\n",
            "\u001b[?25hDownloading yt_dlp-2025.2.19-py3-none-any.whl (3.2 MB)\n",
            "\u001b[2K   \u001b[90m━━━━━━━━━━━━━━━━━━━━━━━━━━━━━━━━━━━━━━━━\u001b[0m \u001b[32m3.2/3.2 MB\u001b[0m \u001b[31m39.0 MB/s\u001b[0m eta \u001b[36m0:00:00\u001b[0m\n",
            "\u001b[?25hInstalling collected packages: yt-dlp\n",
            "Successfully installed yt-dlp-2025.2.19\n"
          ]
        }
      ]
    },
    {
      "cell_type": "code",
      "execution_count": 4,
      "metadata": {
        "colab": {
          "base_uri": "https://localhost:8080/"
        },
        "id": "_z5vf_Vh8cKt",
        "outputId": "57c947b9-b0b6-4d57-9200-098bd179be39"
      },
      "outputs": [
        {
          "output_type": "stream",
          "name": "stdout",
          "text": [
            "Введите название трека или артиста: HIM\n",
            "Найденные варианты:\n",
            "1. HIM - Right Here In My Arms (Official Video) - him\n",
            "2. Gunna - HIM ALL ALONG [Official Video] - Gunna\n",
            "3. HIM - Killing Loneliness [OFFICIAL VIDEO] - him\n",
            "4. DaBaby - HIM (Feat. Big Boogie) - DaBaby\n",
            "5. HIM - Wings of A Butterfly (Video) - him\n",
            "6. HiM - Join Me In Death 4K HD HQ - elcoronelGOD\n",
            "7. Him - Rupert Holmes - Topic\n",
            "8. HIM - (Don't Fear) The Reaper - SymphonicMetalGuy\n",
            "9. Like Him - Tyler, The Creator\n",
            "10. Rupert Holmes - Him ( 1980 ) HQ - Costa Rica Retro Y Mas.\n",
            "Введите номер трека для скачивания или 0 для повторного поиска: 8\n",
            "[youtube] Extracting URL: https://www.youtube.com/watch?v=jvxRTs9bVoo\n",
            "[youtube] jvxRTs9bVoo: Downloading webpage\n",
            "[youtube] jvxRTs9bVoo: Downloading tv client config\n",
            "[youtube] jvxRTs9bVoo: Downloading player 7d1d50a6\n",
            "[youtube] jvxRTs9bVoo: Downloading tv player API JSON\n",
            "[youtube] jvxRTs9bVoo: Downloading ios player API JSON\n",
            "[youtube] jvxRTs9bVoo: Downloading m3u8 information\n",
            "[info] jvxRTs9bVoo: Downloading 1 format(s): 251\n",
            "[download] Destination: downloads/HIM - (Don't Fear) The Reaper\n",
            "[download] 100% of    5.94MiB in 00:00:00 at 29.00MiB/s  \n",
            "[ExtractAudio] Destination: downloads/HIM - (Don't Fear) The Reaper.mp3\n",
            "Deleting original file downloads/HIM - (Don't Fear) The Reaper (pass -k to keep)\n",
            "Трек скачан: downloads/HIM - (Don't Fear) The Reaper\n"
          ]
        }
      ],
      "source": [
        "import os\n",
        "import yt_dlp\n",
        "\n",
        "# Функция для поиска и скачивания песни\n",
        "def download_song(query, save_folder=\"downloads\"):\n",
        "    while True:\n",
        "        # Создаём папку для загрузки, если её нет\n",
        "        os.makedirs(save_folder, exist_ok=True)\n",
        "\n",
        "        # Настройки yt-dlp для поиска\n",
        "        ydl_opts = {\n",
        "            'quiet': True,\n",
        "            'format': 'bestaudio/best',\n",
        "            'noplaylist': True,\n",
        "        }\n",
        "\n",
        "        # Поиск треков на YouTube\n",
        "        with yt_dlp.YoutubeDL(ydl_opts) as ydl:\n",
        "            search_results = ydl.extract_info(f\"ytsearch10:{query}\", download=False)\n",
        "\n",
        "        # Вывод найденных вариантов\n",
        "        print(\"Найденные варианты:\")\n",
        "        for i, entry in enumerate(search_results['entries'], 1):\n",
        "            print(f\"{i}. {entry['title']} - {entry['uploader']}\")\n",
        "\n",
        "        # Выбор пользователя\n",
        "        choice = int(input(\"Введите номер трека для скачивания или 0 для повторного поиска: \"))\n",
        "\n",
        "        if choice == 0:\n",
        "            query = input(\"Введите новое название трека или артиста: \")\n",
        "            continue\n",
        "\n",
        "        selected_track = search_results['entries'][choice - 1]\n",
        "\n",
        "        # Путь для сохранения\n",
        "        filename = f\"{save_folder}/{selected_track['title']}\"\n",
        "\n",
        "        # Настройки yt-dlp для скачивания\n",
        "        ydl_opts = {\n",
        "            'format': 'bestaudio/best',\n",
        "            'outtmpl': filename,\n",
        "            'postprocessors': [{\n",
        "                'key': 'FFmpegExtractAudio',\n",
        "                'preferredcodec': 'mp3',\n",
        "                'preferredquality': '192',\n",
        "            }],\n",
        "            'quiet': False,\n",
        "        }\n",
        "\n",
        "        # Скачивание выбранного трека\n",
        "        with yt_dlp.YoutubeDL(ydl_opts) as ydl:\n",
        "            ydl.download([selected_track['webpage_url']])\n",
        "\n",
        "        print(f\"Трек скачан: {filename}\")\n",
        "        break\n",
        "\n",
        "# Пример использования\n",
        "query = input(\"Введите название трека или артиста: \")\n",
        "download_song(query)\n",
        "\n"
      ]
    }
  ]
}