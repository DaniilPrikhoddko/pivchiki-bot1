{
  "nbformat": 4,
  "nbformat_minor": 0,
  "metadata": {
    "colab": {
      "provenance": []
    },
    "kernelspec": {
      "name": "python3",
      "display_name": "Python 3"
    },
    "language_info": {
      "name": "python"
    }
  },
  "cells": [
    {
      "cell_type": "code",
      "source": [
        "import numpy as np\n",
        "import tensorflow as tf\n",
        "import tensorflow_hub as hub\n",
        "import librosa\n",
        "import os\n",
        "from sklearn.metrics.pairwise import cosine_similarity"
      ],
      "metadata": {
        "id": "4EO79Vej-o4O"
      },
      "execution_count": 2,
      "outputs": []
    },
    {
      "cell_type": "code",
      "source": [
        "# Загрузка предобученной модели VGGish\n",
        "model = hub.load('https://tfhub.dev/google/vggish/1')"
      ],
      "metadata": {
        "id": "ToJkllDi-rFm"
      },
      "execution_count": 3,
      "outputs": []
    },
    {
      "cell_type": "code",
      "source": [
        "# Функция для извлечения признаков из аудиофрагмента\n",
        "def extract_features(audio_path):\n",
        "\n",
        "    audio, sr = librosa.load(audio_path, sr=16000) # Загрузка аудио\n",
        "    features = model(audio) # Извлечение признаков с помощью VGGish\n",
        "    features = np.mean(features, axis=0) # Усреднение признаков по времени\n",
        "\n",
        "    return features"
      ],
      "metadata": {
        "id": "JfoY1PBd-tBW"
      },
      "execution_count": 4,
      "outputs": []
    },
    {
      "cell_type": "code",
      "source": [
        "# Функция для загрузки признаков всех песен из базы данных\n",
        "def load_database_features(database_path):\n",
        "    database_features = {}\n",
        "    for song_file in os.listdir(database_path):\n",
        "        if song_file.endswith('.mp3'):\n",
        "            song_path = os.path.join(database_path, song_file)\n",
        "            features = extract_features(song_path)\n",
        "            database_features[song_file] = features\n",
        "    return database_features"
      ],
      "metadata": {
        "id": "KeC8xD7k-vOe"
      },
      "execution_count": 5,
      "outputs": []
    },
    {
      "cell_type": "code",
      "source": [
        "# Функция для поиска наиболее похожей песни\n",
        "def find_most_similar_song(input_features, database_features):\n",
        "    max_similarity = -1\n",
        "    best_song = None\n",
        "\n",
        "    for song_name, song_features in database_features.items():\n",
        "        # Вычисление косинусного сходства\n",
        "        similarity = cosine_similarity([input_features], [song_features])[0][0]\n",
        "\n",
        "        if similarity > max_similarity:\n",
        "            max_similarity = similarity\n",
        "            best_song = song_name\n",
        "\n",
        "    return best_song, max_similarity"
      ],
      "metadata": {
        "id": "itOe4Mfo-xN7"
      },
      "execution_count": 6,
      "outputs": []
    },
    {
      "cell_type": "code",
      "source": [
        "database_path = 'songs'  # Путь к папке с песнями\n",
        "input_audio_path = 'гс.ogg'  # Путь к голосовому сообщению\n",
        "\n",
        "# Загрузка признаков для всех песен в базе данных\n",
        "database_features = load_database_features(database_path)\n",
        "\n",
        "# Извлечение признаков для голосового сообщения\n",
        "input_features = extract_features(input_audio_path)\n",
        "\n",
        "# Поиск наиболее похожей песни\n",
        "best_song, similarity = find_most_similar_song(input_features, database_features)\n",
        "\n",
        "print(f\"Наиболее похожая песня: {best_song}\")\n",
        "print(f\"Сходство: {similarity}\")"
      ],
      "metadata": {
        "id": "JTpgejyyW7pe",
        "colab": {
          "base_uri": "https://localhost:8080/"
        },
        "outputId": "1c78a913-a24a-4f42-cd3a-3c3492536273"
      },
      "execution_count": 7,
      "outputs": [
        {
          "output_type": "stream",
          "name": "stdout",
          "text": [
            "Наиболее похожая песня: zemfira_speed_up_nightore_-_zlojj_chelovek_76809634.mp3\n",
            "Сходство: 0.79358971118927\n"
          ]
        }
      ]
    }
  ]
}